{
 "cells": [
  {
   "cell_type": "code",
   "execution_count": 1,
   "metadata": {},
   "outputs": [],
   "source": [
    "\n",
    "import cv2\n",
    "import numpy as np\n",
    "def integrate_image(foreground, background, x, y):\n",
    "    # Add alpha blending for smooth edges\n",
    "    alpha = cv2.cvtColor(foreground, cv2.COLOR_BGR2BGRA)\n",
    "    background = cv2.cvtColor(background, cv2.COLOR_BGR2BGRA)\n",
    "\n",
    "    y1, y2 = y, y + foreground.shape[0]\n",
    "    x1, x2 = x, x + foreground.shape[1]\n",
    "\n",
    "    alpha_s = alpha[:, :, 3] / 255.0\n",
    "    alpha_l = 1.0 - alpha_s\n",
    "\n",
    "    for c in range(3):\n",
    "        background[y1:y2, x1:x2, c] = alpha_s * foreground[:, :, c] + \\\n",
    "                                     alpha_l * background[y1:y2, x1:x2, c]\n",
    "\n",
    "    return background\n",
    "\n",
    "\n"
   ]
  },
  {
   "cell_type": "code",
   "execution_count": 3,
   "metadata": {},
   "outputs": [
    {
     "name": "stdout",
     "output_type": "stream",
     "text": [
      "/Users/linchenwei/Desktop/OMSCS_DL/Group Project\n"
     ]
    }
   ],
   "source": [
    "import os\n",
    "print(os.getcwd())\n",
    "\n",
    "os.chdir('/Users/linchenwei/Desktop/OMSCS_DL/Group Project/CS7643_project')"
   ]
  },
  {
   "cell_type": "code",
   "execution_count": 21,
   "metadata": {},
   "outputs": [
    {
     "data": {
      "text/plain": [
       "True"
      ]
     },
     "execution_count": 21,
     "metadata": {},
     "output_type": "execute_result"
    }
   ],
   "source": [
    "\n",
    "# Convert to grayscale before resizing\n",
    "foreground = cv2.imread('tiger_4.jpeg')\n",
    "background = cv2.imread('data/train_features/ZJ008483.jpg')\n",
    "\n",
    "# Get dimensions\n",
    "h, w = background.shape[:2]\n",
    "new_size = (w//3, h//3)\n",
    "foreground = cv2.resize(foreground, new_size)\n",
    "\n",
    "# Center position\n",
    "x = w//2 - new_size[0]//2\n",
    "y = h//2 - new_size[1]//2\n",
    "\n",
    "# Blend images\n",
    "alpha = 0.5\n",
    "merged = cv2.addWeighted(foreground, alpha, \n",
    "                       background[y:y+foreground.shape[0], x:x+foreground.shape[1]], \n",
    "                       1-alpha, 0)\n",
    "background[y:y+foreground.shape[0], x:x+foreground.shape[1]] = merged\n",
    "\n",
    "cv2.imwrite('tiger_4.jpg', background)"
   ]
  },
  {
   "cell_type": "code",
   "execution_count": 37,
   "metadata": {},
   "outputs": [
    {
     "data": {
      "text/plain": [
       "True"
      ]
     },
     "execution_count": 37,
     "metadata": {},
     "output_type": "execute_result"
    }
   ],
   "source": [
    "##########night \n",
    "# Convert to grayscale before resizing\n",
    "foreground = cv2.imread('tiger_5.jpeg')\n",
    "background = cv2.imread('data/train_features/ZJ008483.jpg')\n",
    "\n",
    "# Get dimensions\n",
    "h, w = background.shape[:2]\n",
    "new_size = (w//1, h//1)\n",
    "foreground = cv2.resize(foreground, new_size)\n",
    "\n",
    "# Center position\n",
    "x = w//2 - new_size[0]//2\n",
    "y = h//2 - new_size[1]//2\n",
    "\n",
    "# Blend images\n",
    "alpha = 0.5\n",
    "merged = cv2.addWeighted(foreground, alpha, \n",
    "                       background[y:y+foreground.shape[0], x:x+foreground.shape[1]], \n",
    "                       1-alpha, 0)\n",
    "background[y:y+foreground.shape[0], x:x+foreground.shape[1]] = merged\n",
    "\n",
    "cv2.imwrite('tiger_5.jpg', background)"
   ]
  },
  {
   "cell_type": "code",
   "execution_count": 35,
   "metadata": {},
   "outputs": [
    {
     "data": {
      "text/plain": [
       "True"
      ]
     },
     "execution_count": 35,
     "metadata": {},
     "output_type": "execute_result"
    }
   ],
   "source": [
    "###### day\n",
    "# Convert to grayscale before resizing\n",
    "foreground = cv2.imread('tiger_3.jpeg')\n",
    "\n",
    "background = cv2.imread('data/train_features/ZJ000018.jpg')\n",
    "\n",
    "# Get dimensions\n",
    "h, w = background.shape[:2]\n",
    "new_size = (w//1, h//1)\n",
    "foreground = cv2.resize(foreground, new_size)\n",
    "\n",
    "# Center position\n",
    "x = w//2 - new_size[0]//2\n",
    "y = h//2 - new_size[1]//2\n",
    "\n",
    "# Blend images\n",
    "alpha = 0.5\n",
    "merged = cv2.addWeighted(foreground, alpha, \n",
    "                       background[y:y+foreground.shape[0], x:x+foreground.shape[1]], \n",
    "                       1-alpha, 0)\n",
    "background[y:y+foreground.shape[0], x:x+foreground.shape[1]] = merged\n",
    "\n",
    "cv2.imwrite('tiger_3.jpg', background)"
   ]
  },
  {
   "cell_type": "code",
   "execution_count": null,
   "metadata": {},
   "outputs": [],
   "source": []
  }
 ],
 "metadata": {
  "kernelspec": {
   "display_name": "base",
   "language": "python",
   "name": "python3"
  },
  "language_info": {
   "codemirror_mode": {
    "name": "ipython",
    "version": 3
   },
   "file_extension": ".py",
   "mimetype": "text/x-python",
   "name": "python",
   "nbconvert_exporter": "python",
   "pygments_lexer": "ipython3",
   "version": "3.9.13"
  },
  "orig_nbformat": 4
 },
 "nbformat": 4,
 "nbformat_minor": 2
}
